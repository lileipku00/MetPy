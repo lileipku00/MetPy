{
  "nbformat": 4,
  "metadata": {
    "language_info": {
      "version": "3.5.2",
      "name": "python",
      "nbconvert_exporter": "python",
      "file_extension": ".py",
      "pygments_lexer": "ipython3",
      "codemirror_mode": {
        "version": 3,
        "name": "ipython"
      },
      "mimetype": "text/x-python"
    },
    "kernelspec": {
      "display_name": "Python 3",
      "name": "python3",
      "language": "python"
    }
  },
  "nbformat_minor": 0,
  "cells": [
    {
      "metadata": {
        "collapsed": false
      },
      "cell_type": "code",
      "execution_count": null,
      "outputs": [],
      "source": [
        "%matplotlib inline"
      ]
    },
    {
      "metadata": {},
      "cell_type": "markdown",
      "source": [
        "\nDewpoint and Mixing Ratio\n=========================\n\nUse functions from `metpy.calc` as well as pint's unit support to perform calculations.\n\nThe code below converts the mixing ratio value into\na value for vapor pressure assuming both 1000mb and 850mb ambient air\npressure values. It also demonstrates converting the resulting dewpoint\ntemperature to degrees Fahrenheit.\n\n"
      ]
    },
    {
      "metadata": {
        "collapsed": false
      },
      "cell_type": "code",
      "execution_count": null,
      "outputs": [],
      "source": [
        "import metpy.calc as mcalc\nfrom metpy.units import units"
      ]
    },
    {
      "metadata": {},
      "cell_type": "markdown",
      "source": [
        "Create a test value of mixing ratio in grams per kilogram\n\n"
      ]
    },
    {
      "metadata": {
        "collapsed": false
      },
      "cell_type": "code",
      "execution_count": null,
      "outputs": [],
      "source": [
        "mixing = 10 * units('g/kg')\nprint(mixing)"
      ]
    },
    {
      "metadata": {},
      "cell_type": "markdown",
      "source": [
        "Now throw that value with units into the function to calculate\nthe corresponding vapor pressure, given a surface pressure of 1000 mb\n\n"
      ]
    },
    {
      "metadata": {
        "collapsed": false
      },
      "cell_type": "code",
      "execution_count": null,
      "outputs": [],
      "source": [
        "e = mcalc.vapor_pressure(1000. * units.mbar, mixing)\nprint(e)"
      ]
    },
    {
      "metadata": {},
      "cell_type": "markdown",
      "source": [
        "Take the odd units and force them to millibars\n\n"
      ]
    },
    {
      "metadata": {
        "collapsed": false
      },
      "cell_type": "code",
      "execution_count": null,
      "outputs": [],
      "source": [
        "print(e.to(units.mbar))"
      ]
    },
    {
      "metadata": {},
      "cell_type": "markdown",
      "source": [
        "Take the raw vapor pressure and throw into the dewpoint function\n\n"
      ]
    },
    {
      "metadata": {
        "collapsed": false
      },
      "cell_type": "code",
      "execution_count": null,
      "outputs": [],
      "source": [
        "td = mcalc.dewpoint(e)\nprint(td)"
      ]
    },
    {
      "metadata": {},
      "cell_type": "markdown",
      "source": [
        "Which can of course be converted to Fahrenheit\n\n"
      ]
    },
    {
      "metadata": {
        "collapsed": false
      },
      "cell_type": "code",
      "execution_count": null,
      "outputs": [],
      "source": [
        "print(td.to('degF'))"
      ]
    },
    {
      "metadata": {},
      "cell_type": "markdown",
      "source": [
        "Now do the same thing for 850 mb, approximately the pressure of Denver\n\n"
      ]
    },
    {
      "metadata": {
        "collapsed": false
      },
      "cell_type": "code",
      "execution_count": null,
      "outputs": [],
      "source": [
        "e = mcalc.vapor_pressure(850. * units.mbar, mixing)\nprint(e.to(units.mbar))"
      ]
    },
    {
      "metadata": {},
      "cell_type": "markdown",
      "source": [
        "And print the corresponding dewpoint\n\n"
      ]
    },
    {
      "metadata": {
        "collapsed": false
      },
      "cell_type": "code",
      "execution_count": null,
      "outputs": [],
      "source": [
        "td = mcalc.dewpoint(e)\nprint(td, td.to('degF'))"
      ]
    }
  ]
}